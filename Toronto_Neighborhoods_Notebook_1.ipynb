{
    "cells": [
        {
            "cell_type": "markdown",
            "metadata": {
                "collapsed": true
            },
            "source": "# This Notebook is used to scrape the Wikipedia page with Toronto neighborhoods."
        },
        {
            "cell_type": "markdown",
            "metadata": {},
            "source": "#### Installation of the \"beautifulsoup4\" package."
        },
        {
            "cell_type": "code",
            "execution_count": 1,
            "metadata": {},
            "outputs": [],
            "source": "#!conda install beautifulsoup4"
        },
        {
            "cell_type": "markdown",
            "metadata": {},
            "source": "#### Import of the required modules."
        },
        {
            "cell_type": "code",
            "execution_count": 2,
            "metadata": {},
            "outputs": [],
            "source": "import lxml\nimport requests\nimport pandas as pd\nfrom bs4 import BeautifulSoup\nfrom geopy.geocoders import Nominatim"
        },
        {
            "cell_type": "markdown",
            "metadata": {},
            "source": "#### Getting the Neighborhoods table from the Wikipedia page."
        },
        {
            "cell_type": "code",
            "execution_count": 3,
            "metadata": {},
            "outputs": [],
            "source": "url = \"https://en.wikipedia.org/wiki/List_of_postal_codes_of_Canada:_M\"\nsoup = BeautifulSoup(requests.get(url).content,features = 'lxml')\ntable = soup.find_all('table',class_ = 'wikitable sortable')[0]\ndf = pd.read_html(str(table))[0]"
        },
        {
            "cell_type": "markdown",
            "metadata": {},
            "source": "#### Transforming the data into the required form."
        },
        {
            "cell_type": "code",
            "execution_count": 4,
            "metadata": {},
            "outputs": [
                {
                    "data": {
                        "text/html": "<div>\n<style scoped>\n    .dataframe tbody tr th:only-of-type {\n        vertical-align: middle;\n    }\n\n    .dataframe tbody tr th {\n        vertical-align: top;\n    }\n\n    .dataframe thead th {\n        text-align: right;\n    }\n</style>\n<table border=\"1\" class=\"dataframe\">\n  <thead>\n    <tr style=\"text-align: right;\">\n      <th></th>\n      <th>Postcode</th>\n      <th>Borough</th>\n      <th>Neighbourhood</th>\n    </tr>\n  </thead>\n  <tbody>\n    <tr>\n      <th>0</th>\n      <td>M1B</td>\n      <td>Scarborough</td>\n      <td>Malvern, Rouge</td>\n    </tr>\n    <tr>\n      <th>1</th>\n      <td>M1C</td>\n      <td>Scarborough</td>\n      <td>Highland Creek, Port Union, Rouge Hill</td>\n    </tr>\n    <tr>\n      <th>2</th>\n      <td>M1E</td>\n      <td>Scarborough</td>\n      <td>Guildwood, Morningside, West Hill</td>\n    </tr>\n    <tr>\n      <th>3</th>\n      <td>M1G</td>\n      <td>Scarborough</td>\n      <td>Woburn</td>\n    </tr>\n    <tr>\n      <th>4</th>\n      <td>M1H</td>\n      <td>Scarborough</td>\n      <td>Cedarbrae</td>\n    </tr>\n  </tbody>\n</table>\n</div>",
                        "text/plain": "  Postcode      Borough                           Neighbourhood\n0      M1B  Scarborough                          Malvern, Rouge\n1      M1C  Scarborough  Highland Creek, Port Union, Rouge Hill\n2      M1E  Scarborough       Guildwood, Morningside, West Hill\n3      M1G  Scarborough                                  Woburn\n4      M1H  Scarborough                               Cedarbrae"
                    },
                    "execution_count": 4,
                    "metadata": {},
                    "output_type": "execute_result"
                }
            ],
            "source": "df = df.loc[(df['Borough'] != 'Not assigned')]\nmask = (df['Neighbourhood'] == 'Not assigned')\ndf['Neighbourhood'][mask] = df['Borough'][mask]\ndf = df.sort_values(['Postcode','Borough','Neighbourhood'])\ndf = df.groupby(['Postcode','Borough'],as_index = False).agg({'Neighbourhood':', '.join})\ndf.head()"
        },
        {
            "cell_type": "markdown",
            "metadata": {},
            "source": "#### Printing the number of rows and columns of the resulting dataframe."
        },
        {
            "cell_type": "code",
            "execution_count": null,
            "metadata": {},
            "outputs": [
                {
                    "name": "stdout",
                    "output_type": "stream",
                    "text": "The number of rows and columns of the resulting dataframe: (103, 3)\n"
                }
            ],
            "source": "print(\"The number of rows and columns of the resulting dataframe:\",df.shape)"
        },
        {
            "cell_type": "code",
            "execution_count": null,
            "metadata": {},
            "outputs": [],
            "source": ""
        },
        {
            "cell_type": "code",
            "execution_count": null,
            "metadata": {},
            "outputs": [],
            "source": ""
        },
        {
            "cell_type": "code",
            "execution_count": null,
            "metadata": {},
            "outputs": [],
            "source": ""
        },
        {
            "cell_type": "code",
            "execution_count": null,
            "metadata": {},
            "outputs": [],
            "source": "#!pip install opencage\nfrom opencage.geocoder import OpenCageGeocode"
        },
        {
            "cell_type": "code",
            "execution_count": null,
            "metadata": {},
            "outputs": [],
            "source": "# The code was removed by Watson Studio for sharing."
        },
        {
            "cell_type": "code",
            "execution_count": null,
            "metadata": {
                "scrolled": false
            },
            "outputs": [
                {
                    "name": "stdout",
                    "output_type": "stream",
                    "text": "The geograpical coordinate are 43.8113, -79.193.\nThe geograpical coordinate are 43.7878, -79.1564.\nThe geograpical coordinate are 43.7678, -79.1866.\nThe geograpical coordinate are 43.7712, -79.2144.\nThe geograpical coordinate are 43.7686, -79.2389.\nThe geograpical coordinate are 43.7464, -79.2323.\nThe geograpical coordinate are 43.7298, -79.2639.\nThe geograpical coordinate are 43.7122, -79.2843.\nThe geograpical coordinate are 43.7247, -79.2312.\nThe geograpical coordinate are 43.6952, -79.2646.\nThe geograpical coordinate are 43.7612, -79.2707.\nThe geograpical coordinate are 43.7507, -79.3003.\nThe geograpical coordinate are 43.7946, -79.2644.\nThe geograpical coordinate are 43.7812, -79.3036.\nThe geograpical coordinate are 43.8177, -79.2819.\nThe geograpical coordinate are 43.8016, -79.3216.\nThe geograpical coordinate are 43.834, -79.2069.\nThe geograpical coordinate are 43.8015, -79.3577.\nThe geograpical coordinate are 43.7801, -79.3479.\nThe geograpical coordinate are 43.7797, -79.3813.\nThe geograpical coordinate are 43.7547, -79.3764.\nThe geograpical coordinate are 43.7915, -79.4103.\nThe geograpical coordinate are 43.7673, -79.4111.\nThe geograpical coordinate are 43.75, -79.3978.\nThe geograpical coordinate are 43.7786, -79.445.\nThe geograpical coordinate are 43.653963, -79.387207.\nThe geograpical coordinate are 43.745, -79.359.\nThe geograpical coordinate are 43.7334, -79.3329.\nThe geograpical coordinate are 43.7535, -79.4472.\nThe geograpical coordinate are 43.7694, -79.4921.\nThe geograpical coordinate are 43.739, -79.4692.\nThe geograpical coordinate are 43.7334, -79.5116.\nThe geograpical coordinate are 43.7319, -79.4928.\nThe geograpical coordinate are 43.7568, -79.521.\nThe geograpical coordinate are 43.7276, -79.3148.\nThe geograpical coordinate are 43.7063, -79.3094.\nThe geograpical coordinate are 43.6913, -79.3116.\nThe geograpical coordinate are 43.6784, -79.2941.\nThe geograpical coordinate are 43.7124, -79.3644.\nThe geograpical coordinate are 43.7059, -79.3464.\nThe geograpical coordinate are 43.6872, -79.3368.\nThe geograpical coordinate are 43.6803, -79.3538.\nThe geograpical coordinate are 43.6693, -79.3155.\nThe geograpical coordinate are 43.6561, -79.3406.\nThe geograpical coordinate are 43.7301, -79.3935.\nThe geograpical coordinate are 43.7135, -79.3887.\nThe geograpical coordinate are 43.7143, -79.4065.\nThe geograpical coordinate are 43.702, -79.3853.\nThe geograpical coordinate are 43.6899, -79.3853.\nThe geograpical coordinate are 43.6861, -79.4025.\nThe geograpical coordinate are 43.6827, -79.373.\nThe geograpical coordinate are 43.6684, -79.3689.\nThe geograpical coordinate are 43.6656, -79.383.\nThe geograpical coordinate are 43.6555, -79.3626.\nThe geograpical coordinate are 43.6572, -79.3783.\nThe geograpical coordinate are 43.6513, -79.3756.\nThe geograpical coordinate are 43.648, -79.3816.\nThe geograpical coordinate are 43.6564, -79.386.\nThe geograpical coordinate are 43.6449033, -79.3818364.\nThe geograpical coordinate are 43.6329, -79.3611.\nThe geograpical coordinate are 43.6469, -79.3823.\nThe geograpical coordinate are 43.6492, -79.3823.\nThe geograpical coordinate are 43.7335, -79.4177.\nThe geograpical coordinate are 43.7113, -79.4195.\nThe geograpical coordinate are 43.6966, -79.412.\nThe geograpical coordinate are 43.6736, -79.4035.\nThe geograpical coordinate are 43.6629, -79.3987.\nThe geograpical coordinate are 43.6541, -79.3978.\nThe geograpical coordinate are 43.6404, -79.3995.\nThe geograpical coordinate are 43.6437, -79.3787.\nThe geograpical coordinate are 43.6492, -79.3823.\nThe geograpical coordinate are 43.7223, -79.4504.\nThe geograpical coordinate are 43.7081, -79.4479.\nThe geograpical coordinate are 43.6915, -79.4307.\nThe geograpical coordinate are 43.6889, -79.4507.\nThe geograpical coordinate are 43.6683, -79.4205.\nThe geograpical coordinate are 43.6655, -79.4378.\nThe geograpical coordinate are 43.648, -79.4177.\nThe geograpical coordinate are 43.6383, -79.4301.\nThe geograpical coordinate are 43.7137, -79.4869.\nThe geograpical coordinate are 43.6934, -79.4857.\nThe geograpical coordinate are 43.6449033, -79.3818364.\nThe geograpical coordinate are 43.6449033, -79.3818364.\nThe geograpical coordinate are 43.6469, -79.4521.\nThe geograpical coordinate are 43.6449033, -79.3818364.\nThe geograpical coordinate are 43.653963, -79.387207.\nThe geograpical coordinate are 43.653963, -79.387207.\nThe geograpical coordinate are 43.7804, -79.2505.\nThe geograpical coordinate are 43.6075, -79.5013.\nThe geograpical coordinate are 43.6021, -79.5402.\n"
                }
            ],
            "source": "geocoder = OpenCageGeocode(key)\n\nlatitude_list = []\nlongitude_list = []\n\nfor i in df.index:\n    address = df['Postcode'][i] + ', Toronto, Ontario'   \n    results = geocoder.geocode(address)\n    n = len(results) - 1\n    latitude = results[n]['geometry']['lat']\n    longitude = results[n]['geometry']['lng']\n    latitude_list.append(latitude)\n    longitude_list.append(longitude)\n    #print('The geograpical coordinate are {}, {}.'.format(latitude, longitude))"
        },
        {
            "cell_type": "code",
            "execution_count": null,
            "metadata": {},
            "outputs": [],
            "source": "df['Latitude'] = latitude_list\ndf['Longitude'] = longitude_list\ndf"
        },
        {
            "cell_type": "code",
            "execution_count": null,
            "metadata": {},
            "outputs": [],
            "source": ""
        }
    ],
    "metadata": {
        "kernelspec": {
            "display_name": "Python 3.6",
            "language": "python",
            "name": "python3"
        },
        "language_info": {
            "codemirror_mode": {
                "name": "ipython",
                "version": 3
            },
            "file_extension": ".py",
            "mimetype": "text/x-python",
            "name": "python",
            "nbconvert_exporter": "python",
            "pygments_lexer": "ipython3",
            "version": "3.6.9"
        }
    },
    "nbformat": 4,
    "nbformat_minor": 1
}