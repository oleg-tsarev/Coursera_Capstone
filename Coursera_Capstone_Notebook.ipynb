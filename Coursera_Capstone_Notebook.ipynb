{
    "cells": [
        {
            "cell_type": "markdown",
            "metadata": {},
            "source": "# Coursera Capstone Project."
        },
        {
            "cell_type": "markdown",
            "metadata": {},
            "source": "#### Installation of the required packages and import of the required modules."
        },
        {
            "cell_type": "code",
            "execution_count": 13,
            "metadata": {},
            "outputs": [],
            "source": "#!pip install opencage --quiet\n#!conda install beautifulsoup4 --quiet\n#!conda install -c conda-forge folium=0.5.0 --yes -q\n\nimport lxml\nimport folium\nimport requests\nimport warnings\nimport numpy as np\nimport pandas as pd\nimport matplotlib.cm as cm\nimport matplotlib.colors as colors\n\nfrom bs4 import BeautifulSoup\nfrom sklearn.cluster import KMeans\nfrom pandas.io.json import json_normalize\nfrom opencage.geocoder import OpenCageGeocode"
        },
        {
            "cell_type": "markdown",
            "metadata": {},
            "source": "#### Setting the options."
        },
        {
            "cell_type": "code",
            "execution_count": 14,
            "metadata": {},
            "outputs": [],
            "source": "%matplotlib notebook\nwarnings.filterwarnings('ignore')\npd.set_option('display.max_rows',9)\npd.set_option('display.max_columns',None)"
        },
        {
            "cell_type": "code",
            "execution_count": 15,
            "metadata": {},
            "outputs": [
                {
                    "data": {
                        "text/html": "<div>\n<style scoped>\n    .dataframe tbody tr th:only-of-type {\n        vertical-align: middle;\n    }\n\n    .dataframe tbody tr th {\n        vertical-align: top;\n    }\n\n    .dataframe thead th {\n        text-align: right;\n    }\n</style>\n<table border=\"1\" class=\"dataframe\">\n  <thead>\n    <tr style=\"text-align: right;\">\n      <th></th>\n      <th>city</th>\n    </tr>\n  </thead>\n  <tbody>\n    <tr>\n      <th>0</th>\n      <td>London</td>\n    </tr>\n    <tr>\n      <th>1</th>\n      <td>Toronto</td>\n    </tr>\n    <tr>\n      <th>2</th>\n      <td>New York</td>\n    </tr>\n  </tbody>\n</table>\n</div>",
                        "text/plain": "       city\n0    London\n1   Toronto\n2  New York"
                    },
                    "execution_count": 15,
                    "metadata": {},
                    "output_type": "execute_result"
                }
            ],
            "source": "cities = pd.DataFrame({'city':['London','Toronto','New York']})\ncities"
        },
        {
            "cell_type": "code",
            "execution_count": 16,
            "metadata": {},
            "outputs": [],
            "source": "# The code was removed by Watson Studio for sharing."
        },
        {
            "cell_type": "code",
            "execution_count": 17,
            "metadata": {},
            "outputs": [],
            "source": "def getNearbyVenues(cities,category,radius = 500,limit = 3):  \n    venues_list = []\n    for city in zip(cities):\n        url = 'https://api.foursquare.com/v2/venues/explore?&client_id={}&client_secret={}&v={}&near={}&categoryId={}&radius={}&limit={}'.format(\n            CLIENT_ID,CLIENT_SECRET,VERSION,city,category,radius,limit)\n        results = requests.get(url).json()['response']['groups'][0]['items']        \n        venues_list.append([(city[0],\n                             v['venue']['id'],\n                             v['venue']['name'],\n                             v['venue']['location']['lat'],\n                             v['venue']['location']['lng'],\n                             v['venue']['categories'][0]['name'])\n                            for v in results])\n        \n    nearby_venues = pd.DataFrame([item for venue_list in venues_list for item in venue_list])\n    nearby_venues.columns = ['city',\n                             'venue_id',\n                             'venue_name',\n                             'venue_latitude',\n                             'venue_longitude',\n                             'venue_category']\n    return(nearby_venues)"
        },
        {
            "cell_type": "code",
            "execution_count": 18,
            "metadata": {},
            "outputs": [
                {
                    "data": {
                        "text/html": "<div>\n<style scoped>\n    .dataframe tbody tr th:only-of-type {\n        vertical-align: middle;\n    }\n\n    .dataframe tbody tr th {\n        vertical-align: top;\n    }\n\n    .dataframe thead th {\n        text-align: right;\n    }\n</style>\n<table border=\"1\" class=\"dataframe\">\n  <thead>\n    <tr style=\"text-align: right;\">\n      <th></th>\n      <th>city</th>\n      <th>venue_id</th>\n      <th>venue_name</th>\n      <th>venue_latitude</th>\n      <th>venue_longitude</th>\n      <th>venue_category</th>\n    </tr>\n  </thead>\n  <tbody>\n    <tr>\n      <th>0</th>\n      <td>London</td>\n      <td>52764ec8498e83fe786a0595</td>\n      <td>Afternoon Tea at the Corinthia Hotel</td>\n      <td>51.506572</td>\n      <td>-0.124350</td>\n      <td>Tea Room</td>\n    </tr>\n    <tr>\n      <th>1</th>\n      <td>London</td>\n      <td>4cdadd2dc409b60cac66d11a</td>\n      <td>Notes Music &amp; Coffee</td>\n      <td>51.509696</td>\n      <td>-0.126985</td>\n      <td>Coffee Shop</td>\n    </tr>\n    <tr>\n      <th>2</th>\n      <td>London</td>\n      <td>4b228bfef964a520c34824e3</td>\n      <td>Caf\u00e9 In The Crypt</td>\n      <td>51.508962</td>\n      <td>-0.126729</td>\n      <td>Caf\u00e9</td>\n    </tr>\n    <tr>\n      <th>3</th>\n      <td>Toronto</td>\n      <td>4b896ec4f964a520bd3532e3</td>\n      <td>Hotel Gelato</td>\n      <td>43.703478</td>\n      <td>-79.414311</td>\n      <td>Caf\u00e9</td>\n    </tr>\n    <tr>\n      <th>4</th>\n      <td>Toronto</td>\n      <td>4bdc79352a3a0f47a800b3b6</td>\n      <td>The Mad Bean Coffee House</td>\n      <td>43.703529</td>\n      <td>-79.413698</td>\n      <td>Coffee Shop</td>\n    </tr>\n    <tr>\n      <th>5</th>\n      <td>Toronto</td>\n      <td>4b0feea1f964a5206a6623e3</td>\n      <td>Starbucks</td>\n      <td>43.700598</td>\n      <td>-79.427433</td>\n      <td>Coffee Shop</td>\n    </tr>\n    <tr>\n      <th>6</th>\n      <td>New York</td>\n      <td>5b819467598e64002c8b3db7</td>\n      <td>Gotan</td>\n      <td>40.740699</td>\n      <td>-73.993268</td>\n      <td>Caf\u00e9</td>\n    </tr>\n    <tr>\n      <th>7</th>\n      <td>New York</td>\n      <td>50b10a97e4b0c59eea49afef</td>\n      <td>DAVIDsTEA</td>\n      <td>40.742090</td>\n      <td>-73.993378</td>\n      <td>Tea Room</td>\n    </tr>\n    <tr>\n      <th>8</th>\n      <td>New York</td>\n      <td>5a5e29ae0868a24e8b9a8f1e</td>\n      <td>Maman</td>\n      <td>40.743626</td>\n      <td>-73.990211</td>\n      <td>Caf\u00e9</td>\n    </tr>\n  </tbody>\n</table>\n</div>",
                        "text/plain": "       city                  venue_id                            venue_name  \\\n0    London  52764ec8498e83fe786a0595  Afternoon Tea at the Corinthia Hotel   \n1    London  4cdadd2dc409b60cac66d11a                  Notes Music & Coffee   \n2    London  4b228bfef964a520c34824e3                     Caf\u00e9 In The Crypt   \n3   Toronto  4b896ec4f964a520bd3532e3                          Hotel Gelato   \n4   Toronto  4bdc79352a3a0f47a800b3b6             The Mad Bean Coffee House   \n5   Toronto  4b0feea1f964a5206a6623e3                             Starbucks   \n6  New York  5b819467598e64002c8b3db7                                 Gotan   \n7  New York  50b10a97e4b0c59eea49afef                             DAVIDsTEA   \n8  New York  5a5e29ae0868a24e8b9a8f1e                                 Maman   \n\n   venue_latitude  venue_longitude venue_category  \n0       51.506572        -0.124350       Tea Room  \n1       51.509696        -0.126985    Coffee Shop  \n2       51.508962        -0.126729           Caf\u00e9  \n3       43.703478       -79.414311           Caf\u00e9  \n4       43.703529       -79.413698    Coffee Shop  \n5       43.700598       -79.427433    Coffee Shop  \n6       40.740699       -73.993268           Caf\u00e9  \n7       40.742090       -73.993378       Tea Room  \n8       40.743626       -73.990211           Caf\u00e9  "
                    },
                    "execution_count": 18,
                    "metadata": {},
                    "output_type": "execute_result"
                }
            ],
            "source": "cat = '4bf58dd8d48988d1e0931735' # coffee shop\ncity_venue = getNearbyVenues(cities = cities['city'],category = cat,limit = 3)    \ncity_venue"
        },
        {
            "cell_type": "code",
            "execution_count": null,
            "metadata": {},
            "outputs": [],
            "source": ""
        },
        {
            "cell_type": "code",
            "execution_count": 19,
            "metadata": {},
            "outputs": [],
            "source": "def get_venue_data(venues,limit = 3):\n    venues_list = []\n    for vn in venues:\n        url = 'https://api.foursquare.com/v2/venues/{}?&client_id={}&client_secret={}&v={}'.format(vn,CLIENT_ID,CLIENT_SECRET,VERSION)\n        results = requests.get(url).json()['response']['venue']\n        venues_list.append([(results['id'],\n                             results['name'],\n                             results['location']['formattedAddress'],\n                             results['location']['lat'],\n                             results['location']['lng'],\n                             results['canonicalUrl'],\n                             results['categories'][0]['name'],\n                             results['verified'],\n                             results['stats']['tipCount'],\n                             results['price']['tier'],\n                             results['price']['message'],\n                             results['price']['currency'],\n                             #results['hasMenu'],\n                             results['likes']['count'],\n                             results['likes']['groups'][0]['type'],\n                             results['likes']['groups'][0]['count'],\n                             results['likes']['summary'],\n                             results['rating'],\n                             results['ratingSignals'],\n                             #results['menu']['url'],\n                             results['photos']['count'],\n                             #results['reasons']['items'][0]['summary'],\n                             results['tips']['count'],\n                             results['tips']['groups'][0]['type'],\n                             results['tips']['groups'][0]['name'],\n                             results['tips']['groups'][0]['count'],\n                             results['tips']['groups'][0]['items'],\n                             results['hours']['status'],\n                             results['hours']['timeframes'][0]['days'],\n                             #results['parent']['id']\n                            )])\n\n    df_venues = pd.DataFrame([item for venue_list in venues_list for item in venue_list])\n    df_venues.columns = ['venue_id',\n                         'name',\n                         'formattedAddress',\n                         'lat',\n                         'lng',\n                         'canonicalUrl',\n                         'categories',\n                         'verified',\n                         'tipCount',\n                         'tier',\n                         'message',\n                         'currency',\n                         'count',\n                         'groupsType',\n                         'groupsCount',\n                         'summary',\n                         'rating',\n                         'ratingSignals',\n                         'photos',\n                         'tips',\n                         'tips-groups-type',\n                         'tips-groups-name',\n                         'tips-groups-count',\n                         'tips-groups-items',\n                         'status',\n                         'days']\n    return(df_venues)"
        },
        {
            "cell_type": "code",
            "execution_count": 21,
            "metadata": {},
            "outputs": [],
            "source": "df = pd.concat([city_venue,get_venue_data(city_venue['venue_id'],limit = 3)],axis = 1,join = 'inner')"
        },
        {
            "cell_type": "code",
            "execution_count": 22,
            "metadata": {},
            "outputs": [
                {
                    "data": {
                        "text/html": "<div>\n<style scoped>\n    .dataframe tbody tr th:only-of-type {\n        vertical-align: middle;\n    }\n\n    .dataframe tbody tr th {\n        vertical-align: top;\n    }\n\n    .dataframe thead th {\n        text-align: right;\n    }\n</style>\n<table border=\"1\" class=\"dataframe\">\n  <thead>\n    <tr style=\"text-align: right;\">\n      <th></th>\n      <th>city</th>\n      <th>venue_id</th>\n      <th>venue_name</th>\n      <th>venue_latitude</th>\n      <th>venue_longitude</th>\n      <th>venue_category</th>\n      <th>venue_id</th>\n      <th>name</th>\n      <th>formattedAddress</th>\n      <th>lat</th>\n      <th>lng</th>\n      <th>canonicalUrl</th>\n      <th>categories</th>\n      <th>verified</th>\n      <th>tipCount</th>\n      <th>tier</th>\n      <th>message</th>\n      <th>currency</th>\n      <th>count</th>\n      <th>groupsType</th>\n      <th>groupsCount</th>\n      <th>summary</th>\n      <th>rating</th>\n      <th>ratingSignals</th>\n      <th>photos</th>\n      <th>tips</th>\n      <th>tips-groups-type</th>\n      <th>tips-groups-name</th>\n      <th>tips-groups-count</th>\n      <th>tips-groups-items</th>\n      <th>status</th>\n      <th>days</th>\n    </tr>\n  </thead>\n  <tbody>\n    <tr>\n      <th>0</th>\n      <td>London</td>\n      <td>52764ec8498e83fe786a0595</td>\n      <td>Afternoon Tea at the Corinthia Hotel</td>\n      <td>51.506572</td>\n      <td>-0.124350</td>\n      <td>Tea Room</td>\n      <td>52764ec8498e83fe786a0595</td>\n      <td>Afternoon Tea at the Corinthia Hotel</td>\n      <td>[10 Whitehall Pl, London, Greater London, SW1A...</td>\n      <td>51.506572</td>\n      <td>-0.124350</td>\n      <td>https://foursquare.com/v/afternoon-tea-at-the-...</td>\n      <td>Tea Room</td>\n      <td>False</td>\n      <td>12</td>\n      <td>2</td>\n      <td>Moderate</td>\n      <td>\u00a3</td>\n      <td>34</td>\n      <td>others</td>\n      <td>34</td>\n      <td>34 Likes</td>\n      <td>8.8</td>\n      <td>45</td>\n      <td>53</td>\n      <td>12</td>\n      <td>others</td>\n      <td>All tips</td>\n      <td>12</td>\n      <td>[{'id': '5d6614d799438a000c44b901', 'createdAt...</td>\n      <td>Closed until 1:00 PM</td>\n      <td>Mon\u2013Sun</td>\n    </tr>\n    <tr>\n      <th>1</th>\n      <td>London</td>\n      <td>4cdadd2dc409b60cac66d11a</td>\n      <td>Notes Music &amp; Coffee</td>\n      <td>51.509696</td>\n      <td>-0.126985</td>\n      <td>Coffee Shop</td>\n      <td>4cdadd2dc409b60cac66d11a</td>\n      <td>Notes Music &amp; Coffee</td>\n      <td>[31 St Martins Ln, London, Greater London, WC2...</td>\n      <td>51.509696</td>\n      <td>-0.126985</td>\n      <td>https://foursquare.com/v/notes-music--coffee/4...</td>\n      <td>Coffee Shop</td>\n      <td>False</td>\n      <td>166</td>\n      <td>3</td>\n      <td>Expensive</td>\n      <td>\u00a3</td>\n      <td>469</td>\n      <td>others</td>\n      <td>469</td>\n      <td>469 Likes</td>\n      <td>8.3</td>\n      <td>681</td>\n      <td>350</td>\n      <td>166</td>\n      <td>others</td>\n      <td>All tips</td>\n      <td>166</td>\n      <td>[{'id': '4d1c8cb46cf9721e54a82667', 'createdAt...</td>\n      <td>Open until 10:00 PM</td>\n      <td>Mon\u2013Wed</td>\n    </tr>\n    <tr>\n      <th>2</th>\n      <td>London</td>\n      <td>4b228bfef964a520c34824e3</td>\n      <td>Caf\u00e9 In The Crypt</td>\n      <td>51.508962</td>\n      <td>-0.126729</td>\n      <td>Caf\u00e9</td>\n      <td>4b228bfef964a520c34824e3</td>\n      <td>Caf\u00e9 In The Crypt</td>\n      <td>[St. Martin-in-the-fields, London, Greater Lon...</td>\n      <td>51.508962</td>\n      <td>-0.126729</td>\n      <td>https://foursquare.com/v/caf%C3%A9-in-the-cryp...</td>\n      <td>Caf\u00e9</td>\n      <td>False</td>\n      <td>65</td>\n      <td>1</td>\n      <td>Cheap</td>\n      <td>\u00a3</td>\n      <td>226</td>\n      <td>others</td>\n      <td>226</td>\n      <td>226 Likes</td>\n      <td>8.1</td>\n      <td>330</td>\n      <td>236</td>\n      <td>65</td>\n      <td>others</td>\n      <td>All tips</td>\n      <td>65</td>\n      <td>[{'id': '4ccca01bc0378cfaba0b8848', 'createdAt...</td>\n      <td>Closed until 8:00 AM</td>\n      <td>Mon\u2013Tue</td>\n    </tr>\n    <tr>\n      <th>3</th>\n      <td>Toronto</td>\n      <td>4b896ec4f964a520bd3532e3</td>\n      <td>Hotel Gelato</td>\n      <td>43.703478</td>\n      <td>-79.414311</td>\n      <td>Caf\u00e9</td>\n      <td>4b896ec4f964a520bd3532e3</td>\n      <td>Hotel Gelato</td>\n      <td>[532 Eglinton Ave. W (at Heddington Ave.), Tor...</td>\n      <td>43.703478</td>\n      <td>-79.414311</td>\n      <td>https://foursquare.com/hotelgelato</td>\n      <td>Caf\u00e9</td>\n      <td>True</td>\n      <td>35</td>\n      <td>1</td>\n      <td>Cheap</td>\n      <td>$</td>\n      <td>53</td>\n      <td>others</td>\n      <td>53</td>\n      <td>53 Likes</td>\n      <td>8.7</td>\n      <td>87</td>\n      <td>62</td>\n      <td>35</td>\n      <td>others</td>\n      <td>All tips</td>\n      <td>35</td>\n      <td>[{'id': '51e01bde498e8952b36469b2', 'createdAt...</td>\n      <td>Closed until 8:00 AM</td>\n      <td>Mon\u2013Fri, Sun</td>\n    </tr>\n    <tr>\n      <th>4</th>\n      <td>Toronto</td>\n      <td>4bdc79352a3a0f47a800b3b6</td>\n      <td>The Mad Bean Coffee House</td>\n      <td>43.703529</td>\n      <td>-79.413698</td>\n      <td>Coffee Shop</td>\n      <td>4bdc79352a3a0f47a800b3b6</td>\n      <td>The Mad Bean Coffee House</td>\n      <td>[519 Eglinton Avenue West (Heddington Ave), To...</td>\n      <td>43.703529</td>\n      <td>-79.413698</td>\n      <td>https://foursquare.com/v/the-mad-bean-coffee-h...</td>\n      <td>Coffee Shop</td>\n      <td>True</td>\n      <td>24</td>\n      <td>1</td>\n      <td>Cheap</td>\n      <td>$</td>\n      <td>19</td>\n      <td>others</td>\n      <td>19</td>\n      <td>19 Likes</td>\n      <td>8.2</td>\n      <td>40</td>\n      <td>34</td>\n      <td>24</td>\n      <td>others</td>\n      <td>All tips</td>\n      <td>24</td>\n      <td>[{'id': '4e455275d4c065cb6b8f9367', 'createdAt...</td>\n      <td>Closed until 7:00 AM</td>\n      <td>Mon\u2013Fri</td>\n    </tr>\n    <tr>\n      <th>5</th>\n      <td>Toronto</td>\n      <td>4b0feea1f964a5206a6623e3</td>\n      <td>Starbucks</td>\n      <td>43.700598</td>\n      <td>-79.427433</td>\n      <td>Coffee Shop</td>\n      <td>4b0feea1f964a5206a6623e3</td>\n      <td>Starbucks</td>\n      <td>[900 Eglinton Ave W (at Hilltop Rd.), Toronto ...</td>\n      <td>43.700598</td>\n      <td>-79.427433</td>\n      <td>https://foursquare.com/v/starbucks/4b0feea1f96...</td>\n      <td>Coffee Shop</td>\n      <td>True</td>\n      <td>11</td>\n      <td>2</td>\n      <td>Moderate</td>\n      <td>$</td>\n      <td>35</td>\n      <td>others</td>\n      <td>35</td>\n      <td>35 Likes</td>\n      <td>8.0</td>\n      <td>51</td>\n      <td>36</td>\n      <td>11</td>\n      <td>others</td>\n      <td>All tips</td>\n      <td>11</td>\n      <td>[{'id': '4da9baa8fa8cc76497213a9c', 'createdAt...</td>\n      <td>Closed until 5:30 AM</td>\n      <td>Mon\u2013Fri</td>\n    </tr>\n    <tr>\n      <th>6</th>\n      <td>New York</td>\n      <td>5b819467598e64002c8b3db7</td>\n      <td>Gotan</td>\n      <td>40.740699</td>\n      <td>-73.993268</td>\n      <td>Caf\u00e9</td>\n      <td>5b819467598e64002c8b3db7</td>\n      <td>Gotan</td>\n      <td>[37 W 20th St, New York, NY 10011, United States]</td>\n      <td>40.740699</td>\n      <td>-73.993268</td>\n      <td>https://foursquare.com/v/gotan/5b819467598e640...</td>\n      <td>Caf\u00e9</td>\n      <td>False</td>\n      <td>10</td>\n      <td>1</td>\n      <td>Cheap</td>\n      <td>$</td>\n      <td>49</td>\n      <td>others</td>\n      <td>49</td>\n      <td>49 Likes</td>\n      <td>8.6</td>\n      <td>72</td>\n      <td>20</td>\n      <td>10</td>\n      <td>others</td>\n      <td>All tips</td>\n      <td>10</td>\n      <td>[{'id': '5c97aa7a04d1ae002c6cc55c', 'createdAt...</td>\n      <td>Closed until 7:00 AM</td>\n      <td>Mon\u2013Fri</td>\n    </tr>\n    <tr>\n      <th>7</th>\n      <td>New York</td>\n      <td>50b10a97e4b0c59eea49afef</td>\n      <td>DAVIDsTEA</td>\n      <td>40.742090</td>\n      <td>-73.993378</td>\n      <td>Tea Room</td>\n      <td>50b10a97e4b0c59eea49afef</td>\n      <td>DAVIDsTEA</td>\n      <td>[688 Avenue of the Americas (at W 22nd St), Ne...</td>\n      <td>40.742090</td>\n      <td>-73.993378</td>\n      <td>https://foursquare.com/v/davidstea/50b10a97e4b...</td>\n      <td>Tea Room</td>\n      <td>True</td>\n      <td>49</td>\n      <td>1</td>\n      <td>Cheap</td>\n      <td>$</td>\n      <td>132</td>\n      <td>others</td>\n      <td>132</td>\n      <td>132 Likes</td>\n      <td>8.5</td>\n      <td>184</td>\n      <td>97</td>\n      <td>49</td>\n      <td>others</td>\n      <td>All tips</td>\n      <td>49</td>\n      <td>[{'id': '50ec63c9e4b00e1df3ef9a09', 'createdAt...</td>\n      <td>Closed until 7:00 AM</td>\n      <td>Mon\u2013Fri</td>\n    </tr>\n    <tr>\n      <th>8</th>\n      <td>New York</td>\n      <td>5a5e29ae0868a24e8b9a8f1e</td>\n      <td>Maman</td>\n      <td>40.743626</td>\n      <td>-73.990211</td>\n      <td>Caf\u00e9</td>\n      <td>5a5e29ae0868a24e8b9a8f1e</td>\n      <td>Maman</td>\n      <td>[22 W 25th St (btwn 6th Ave &amp; Broadway), New Y...</td>\n      <td>40.743626</td>\n      <td>-73.990211</td>\n      <td>https://foursquare.com/v/maman/5a5e29ae0868a24...</td>\n      <td>Caf\u00e9</td>\n      <td>False</td>\n      <td>33</td>\n      <td>1</td>\n      <td>Cheap</td>\n      <td>$</td>\n      <td>141</td>\n      <td>others</td>\n      <td>141</td>\n      <td>141 Likes</td>\n      <td>8.9</td>\n      <td>201</td>\n      <td>144</td>\n      <td>33</td>\n      <td>others</td>\n      <td>All tips</td>\n      <td>33</td>\n      <td>[{'id': '5d90f2f0a6e0fa0007a5aeaf', 'createdAt...</td>\n      <td>Closed until 7:00 AM</td>\n      <td>Mon\u2013Fri</td>\n    </tr>\n  </tbody>\n</table>\n</div>",
                        "text/plain": "       city                  venue_id                            venue_name  \\\n0    London  52764ec8498e83fe786a0595  Afternoon Tea at the Corinthia Hotel   \n1    London  4cdadd2dc409b60cac66d11a                  Notes Music & Coffee   \n2    London  4b228bfef964a520c34824e3                     Caf\u00e9 In The Crypt   \n3   Toronto  4b896ec4f964a520bd3532e3                          Hotel Gelato   \n4   Toronto  4bdc79352a3a0f47a800b3b6             The Mad Bean Coffee House   \n5   Toronto  4b0feea1f964a5206a6623e3                             Starbucks   \n6  New York  5b819467598e64002c8b3db7                                 Gotan   \n7  New York  50b10a97e4b0c59eea49afef                             DAVIDsTEA   \n8  New York  5a5e29ae0868a24e8b9a8f1e                                 Maman   \n\n   venue_latitude  venue_longitude venue_category                  venue_id  \\\n0       51.506572        -0.124350       Tea Room  52764ec8498e83fe786a0595   \n1       51.509696        -0.126985    Coffee Shop  4cdadd2dc409b60cac66d11a   \n2       51.508962        -0.126729           Caf\u00e9  4b228bfef964a520c34824e3   \n3       43.703478       -79.414311           Caf\u00e9  4b896ec4f964a520bd3532e3   \n4       43.703529       -79.413698    Coffee Shop  4bdc79352a3a0f47a800b3b6   \n5       43.700598       -79.427433    Coffee Shop  4b0feea1f964a5206a6623e3   \n6       40.740699       -73.993268           Caf\u00e9  5b819467598e64002c8b3db7   \n7       40.742090       -73.993378       Tea Room  50b10a97e4b0c59eea49afef   \n8       40.743626       -73.990211           Caf\u00e9  5a5e29ae0868a24e8b9a8f1e   \n\n                                   name  \\\n0  Afternoon Tea at the Corinthia Hotel   \n1                  Notes Music & Coffee   \n2                     Caf\u00e9 In The Crypt   \n3                          Hotel Gelato   \n4             The Mad Bean Coffee House   \n5                             Starbucks   \n6                                 Gotan   \n7                             DAVIDsTEA   \n8                                 Maman   \n\n                                    formattedAddress        lat        lng  \\\n0  [10 Whitehall Pl, London, Greater London, SW1A...  51.506572  -0.124350   \n1  [31 St Martins Ln, London, Greater London, WC2...  51.509696  -0.126985   \n2  [St. Martin-in-the-fields, London, Greater Lon...  51.508962  -0.126729   \n3  [532 Eglinton Ave. W (at Heddington Ave.), Tor...  43.703478 -79.414311   \n4  [519 Eglinton Avenue West (Heddington Ave), To...  43.703529 -79.413698   \n5  [900 Eglinton Ave W (at Hilltop Rd.), Toronto ...  43.700598 -79.427433   \n6  [37 W 20th St, New York, NY 10011, United States]  40.740699 -73.993268   \n7  [688 Avenue of the Americas (at W 22nd St), Ne...  40.742090 -73.993378   \n8  [22 W 25th St (btwn 6th Ave & Broadway), New Y...  40.743626 -73.990211   \n\n                                        canonicalUrl   categories  verified  \\\n0  https://foursquare.com/v/afternoon-tea-at-the-...     Tea Room     False   \n1  https://foursquare.com/v/notes-music--coffee/4...  Coffee Shop     False   \n2  https://foursquare.com/v/caf%C3%A9-in-the-cryp...         Caf\u00e9     False   \n3                 https://foursquare.com/hotelgelato         Caf\u00e9      True   \n4  https://foursquare.com/v/the-mad-bean-coffee-h...  Coffee Shop      True   \n5  https://foursquare.com/v/starbucks/4b0feea1f96...  Coffee Shop      True   \n6  https://foursquare.com/v/gotan/5b819467598e640...         Caf\u00e9     False   \n7  https://foursquare.com/v/davidstea/50b10a97e4b...     Tea Room      True   \n8  https://foursquare.com/v/maman/5a5e29ae0868a24...         Caf\u00e9     False   \n\n   tipCount  tier    message currency  count groupsType  groupsCount  \\\n0        12     2   Moderate        \u00a3     34     others           34   \n1       166     3  Expensive        \u00a3    469     others          469   \n2        65     1      Cheap        \u00a3    226     others          226   \n3        35     1      Cheap        $     53     others           53   \n4        24     1      Cheap        $     19     others           19   \n5        11     2   Moderate        $     35     others           35   \n6        10     1      Cheap        $     49     others           49   \n7        49     1      Cheap        $    132     others          132   \n8        33     1      Cheap        $    141     others          141   \n\n     summary  rating  ratingSignals  photos  tips tips-groups-type  \\\n0   34 Likes     8.8             45      53    12           others   \n1  469 Likes     8.3            681     350   166           others   \n2  226 Likes     8.1            330     236    65           others   \n3   53 Likes     8.7             87      62    35           others   \n4   19 Likes     8.2             40      34    24           others   \n5   35 Likes     8.0             51      36    11           others   \n6   49 Likes     8.6             72      20    10           others   \n7  132 Likes     8.5            184      97    49           others   \n8  141 Likes     8.9            201     144    33           others   \n\n  tips-groups-name  tips-groups-count  \\\n0         All tips                 12   \n1         All tips                166   \n2         All tips                 65   \n3         All tips                 35   \n4         All tips                 24   \n5         All tips                 11   \n6         All tips                 10   \n7         All tips                 49   \n8         All tips                 33   \n\n                                   tips-groups-items                status  \\\n0  [{'id': '5d6614d799438a000c44b901', 'createdAt...  Closed until 1:00 PM   \n1  [{'id': '4d1c8cb46cf9721e54a82667', 'createdAt...   Open until 10:00 PM   \n2  [{'id': '4ccca01bc0378cfaba0b8848', 'createdAt...  Closed until 8:00 AM   \n3  [{'id': '51e01bde498e8952b36469b2', 'createdAt...  Closed until 8:00 AM   \n4  [{'id': '4e455275d4c065cb6b8f9367', 'createdAt...  Closed until 7:00 AM   \n5  [{'id': '4da9baa8fa8cc76497213a9c', 'createdAt...  Closed until 5:30 AM   \n6  [{'id': '5c97aa7a04d1ae002c6cc55c', 'createdAt...  Closed until 7:00 AM   \n7  [{'id': '50ec63c9e4b00e1df3ef9a09', 'createdAt...  Closed until 7:00 AM   \n8  [{'id': '5d90f2f0a6e0fa0007a5aeaf', 'createdAt...  Closed until 7:00 AM   \n\n           days  \n0       Mon\u2013Sun  \n1       Mon\u2013Wed  \n2       Mon\u2013Tue  \n3  Mon\u2013Fri, Sun  \n4       Mon\u2013Fri  \n5       Mon\u2013Fri  \n6       Mon\u2013Fri  \n7       Mon\u2013Fri  \n8       Mon\u2013Fri  "
                    },
                    "execution_count": 22,
                    "metadata": {},
                    "output_type": "execute_result"
                }
            ],
            "source": "df"
        },
        {
            "cell_type": "code",
            "execution_count": null,
            "metadata": {},
            "outputs": [],
            "source": ""
        },
        {
            "cell_type": "code",
            "execution_count": null,
            "metadata": {},
            "outputs": [],
            "source": ""
        },
        {
            "cell_type": "code",
            "execution_count": null,
            "metadata": {},
            "outputs": [],
            "source": ""
        },
        {
            "cell_type": "code",
            "execution_count": null,
            "metadata": {},
            "outputs": [],
            "source": ""
        },
        {
            "cell_type": "code",
            "execution_count": null,
            "metadata": {},
            "outputs": [],
            "source": ""
        },
        {
            "cell_type": "code",
            "execution_count": 23,
            "metadata": {
                "scrolled": true
            },
            "outputs": [
                {
                    "data": {
                        "text/html": "<div style=\"width:100%;\"><div style=\"position:relative;width:100%;height:0;padding-bottom:60%;\"><iframe src=\"data:text/html;charset=utf-8;base64,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\" style=\"position:absolute;width:100%;height:100%;left:0;top:0;border:none !important;\" allowfullscreen webkitallowfullscreen mozallowfullscreen></iframe></div></div>",
                        "text/plain": "<folium.folium.Map at 0x7f47f0ee04a8>"
                    },
                    "execution_count": 23,
                    "metadata": {},
                    "output_type": "execute_result"
                }
            ],
            "source": "city = 'New York'\none_city_venues = city_venue.copy()\none_city_venues = one_city_venues.loc[one_city_venues['city'] == city,:]\n\none_city_venue_map = folium.Map(location = [one_city_venues['venue_latitude'].mean(),one_city_venues['venue_longitude'].mean()],zoom_start = 15)\nfor venue,lat,lng in zip(one_city_venues['venue_name'],one_city_venues['venue_latitude'],one_city_venues['venue_longitude']):\n    label = folium.Popup('{}'.format(venue),parse_html = True)\n    folium.CircleMarker([lat,lng],radius = 5,popup = label,color = 'blue',fill = True,fill_color = '#3186cc',fill_opacity = 0.7,\n                        parse_html = False).add_to(one_city_venue_map)\none_city_venue_map"
        },
        {
            "cell_type": "code",
            "execution_count": null,
            "metadata": {},
            "outputs": [],
            "source": ""
        },
        {
            "cell_type": "code",
            "execution_count": null,
            "metadata": {},
            "outputs": [],
            "source": ""
        },
        {
            "cell_type": "code",
            "execution_count": null,
            "metadata": {},
            "outputs": [],
            "source": ""
        }
    ],
    "metadata": {
        "kernelspec": {
            "display_name": "Python 3.6",
            "language": "python",
            "name": "python3"
        },
        "language_info": {
            "codemirror_mode": {
                "name": "ipython",
                "version": 3
            },
            "file_extension": ".py",
            "mimetype": "text/x-python",
            "name": "python",
            "nbconvert_exporter": "python",
            "pygments_lexer": "ipython3",
            "version": "3.6.9"
        }
    },
    "nbformat": 4,
    "nbformat_minor": 1
}